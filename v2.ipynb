{
 "cells": [
  {
   "cell_type": "code",
   "execution_count": 3,
   "metadata": {},
   "outputs": [
    {
     "name": "stderr",
     "output_type": "stream",
     "text": [
      "\u001b[34m\u001b[1mtrain: \u001b[0mweights=yolov5s.pt, cfg=, data=my_data.yaml, hyp=yolov5\\data\\hyps\\hyp.scratch-low.yaml, epochs=3, batch_size=16, imgsz=640, rect=False, resume=False, nosave=False, noval=False, noautoanchor=False, noplots=False, evolve=None, evolve_population=yolov5\\data\\hyps, resume_evolve=None, bucket=, cache=None, image_weights=False, device=cuda, multi_scale=False, single_cls=False, optimizer=SGD, sync_bn=False, workers=8, project=yolov5\\runs\\train, name=exp, exist_ok=False, quad=False, cos_lr=False, label_smoothing=0.0, patience=100, freeze=[0], save_period=-1, seed=0, local_rank=-1, entity=None, upload_dataset=False, bbox_interval=-1, artifact_alias=latest, ndjson_console=False, ndjson_file=False\n",
      "\u001b[34m\u001b[1mgithub: \u001b[0mup to date with https://github.com/ultralytics/yolov5 \n",
      "git: 'стол\\Zea-Zee-Top-view-car-detector\\yolov5' is not a git command. See 'git --help'.\n",
      "Traceback (most recent call last):\n",
      "  File \"c:\\Users\\kuzga\\OneDrive\\Рабочий стол\\Zea-Zee-Top-view-car-detector\\yolov5\\train.py\", line 848, in <module>\n",
      "    main(opt)\n",
      "  File \"c:\\Users\\kuzga\\OneDrive\\Рабочий стол\\Zea-Zee-Top-view-car-detector\\yolov5\\train.py\", line 607, in main\n",
      "    device = select_device(opt.device, batch_size=opt.batch_size)\n",
      "             ^^^^^^^^^^^^^^^^^^^^^^^^^^^^^^^^^^^^^^^^^^^^^^^^^^^^\n",
      "  File \"c:\\Users\\kuzga\\OneDrive\\Рабочий стол\\Zea-Zee-Top-view-car-detector\\yolov5\\utils\\torch_utils.py\", line 123, in select_device\n",
      "    assert torch.cuda.is_available() and torch.cuda.device_count() >= len(\n",
      "                                         ^^^^^^^^^^^^^^^^^^^^^^^^^^^^^^^^^\n",
      "AssertionError: Invalid CUDA '--device cuda' requested, use '--device cpu' or pass valid CUDA device(s)\n"
     ]
    }
   ],
   "source": [
    "!py yolov5/train.py --epochs 3 --data my_data.yaml --weights yolov5s.pt --device cuda"
   ]
  },
  {
   "cell_type": "code",
   "execution_count": 72,
   "metadata": {},
   "outputs": [
    {
     "ename": "SyntaxError",
     "evalue": "invalid syntax (3016344237.py, line 1)",
     "output_type": "error",
     "traceback": [
      "\u001b[1;36m  Cell \u001b[1;32mIn[72], line 1\u001b[1;36m\u001b[0m\n\u001b[1;33m    curl -L https://universe.roboflow.com/ds/XYotbCB0Gy?key=hM7tycZwN7 &gt; roboflow.zip; unzip roboflow.zip; rm roboflow.zip\u001b[0m\n\u001b[1;37m            ^\u001b[0m\n\u001b[1;31mSyntaxError\u001b[0m\u001b[1;31m:\u001b[0m invalid syntax\n"
     ]
    }
   ],
   "source": [
    "curl -L \"https://universe.roboflow.com/ds/XYotbCB0Gy?key=hM7tycZwN7\" &gt; roboflow.zip; unzip roboflow.zip; rm roboflow.zip"
   ]
  }
 ],
 "metadata": {
  "kernelspec": {
   "display_name": ".venv",
   "language": "python",
   "name": "python3"
  },
  "language_info": {
   "codemirror_mode": {
    "name": "ipython",
    "version": 3
   },
   "file_extension": ".py",
   "mimetype": "text/x-python",
   "name": "python",
   "nbconvert_exporter": "python",
   "pygments_lexer": "ipython3",
   "version": "3.11.5"
  }
 },
 "nbformat": 4,
 "nbformat_minor": 2
}
